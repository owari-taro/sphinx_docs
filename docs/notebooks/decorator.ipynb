{
 "cells": [
  {
   "cell_type": "markdown",
   "metadata": {},
   "source": [
    "# decorator \n"
   ]
  },
  {
   "cell_type": "markdown",
   "metadata": {},
   "source": []
  },
  {
   "cell_type": "code",
   "execution_count": 3,
   "metadata": {},
   "outputs": [
    {
     "name": "stdout",
     "output_type": "stream",
     "text": [
      "23\n"
     ]
    },
    {
     "ename": "UnboundLocalError",
     "evalue": "local variable 'b' referenced before assignment",
     "output_type": "error",
     "traceback": [
      "\u001b[0;31m---------------------------------------------------------------------------\u001b[0m",
      "\u001b[0;31mUnboundLocalError\u001b[0m                         Traceback (most recent call last)",
      "\u001b[1;32m/home/tarob/git_repos/sphinx_docs/docs/notebooks/decorator.ipynb Cell 3\u001b[0m line \u001b[0;36m9\n\u001b[1;32m      <a href='vscode-notebook-cell://wsl%2Bubuntu-22.04/home/tarob/git_repos/sphinx_docs/docs/notebooks/decorator.ipynb#W1sdnNjb2RlLXJlbW90ZQ%3D%3D?line=5'>6</a>\u001b[0m     \u001b[39m#bはlocal変数としてに認識される！！\u001b[39;00m\n\u001b[1;32m      <a href='vscode-notebook-cell://wsl%2Bubuntu-22.04/home/tarob/git_repos/sphinx_docs/docs/notebooks/decorator.ipynb#W1sdnNjb2RlLXJlbW90ZQ%3D%3D?line=6'>7</a>\u001b[0m     b\u001b[39m=\u001b[39m\u001b[39m123\u001b[39m\n\u001b[0;32m----> <a href='vscode-notebook-cell://wsl%2Bubuntu-22.04/home/tarob/git_repos/sphinx_docs/docs/notebooks/decorator.ipynb#W1sdnNjb2RlLXJlbW90ZQ%3D%3D?line=8'>9</a>\u001b[0m func(\u001b[39m23\u001b[39;49m)\n",
      "\u001b[1;32m/home/tarob/git_repos/sphinx_docs/docs/notebooks/decorator.ipynb Cell 3\u001b[0m line \u001b[0;36m5\n\u001b[1;32m      <a href='vscode-notebook-cell://wsl%2Bubuntu-22.04/home/tarob/git_repos/sphinx_docs/docs/notebooks/decorator.ipynb#W1sdnNjb2RlLXJlbW90ZQ%3D%3D?line=2'>3</a>\u001b[0m \u001b[39mdef\u001b[39;00m \u001b[39mfunc\u001b[39m(a):\n\u001b[1;32m      <a href='vscode-notebook-cell://wsl%2Bubuntu-22.04/home/tarob/git_repos/sphinx_docs/docs/notebooks/decorator.ipynb#W1sdnNjb2RlLXJlbW90ZQ%3D%3D?line=3'>4</a>\u001b[0m     \u001b[39mprint\u001b[39m(a)\n\u001b[0;32m----> <a href='vscode-notebook-cell://wsl%2Bubuntu-22.04/home/tarob/git_repos/sphinx_docs/docs/notebooks/decorator.ipynb#W1sdnNjb2RlLXJlbW90ZQ%3D%3D?line=4'>5</a>\u001b[0m     \u001b[39mprint\u001b[39m(b)\n\u001b[1;32m      <a href='vscode-notebook-cell://wsl%2Bubuntu-22.04/home/tarob/git_repos/sphinx_docs/docs/notebooks/decorator.ipynb#W1sdnNjb2RlLXJlbW90ZQ%3D%3D?line=5'>6</a>\u001b[0m     \u001b[39m#bはlocal変数としてに認識される！！\u001b[39;00m\n\u001b[1;32m      <a href='vscode-notebook-cell://wsl%2Bubuntu-22.04/home/tarob/git_repos/sphinx_docs/docs/notebooks/decorator.ipynb#W1sdnNjb2RlLXJlbW90ZQ%3D%3D?line=6'>7</a>\u001b[0m     b\u001b[39m=\u001b[39m\u001b[39m123\u001b[39m\n",
      "\u001b[0;31mUnboundLocalError\u001b[0m: local variable 'b' referenced before assignment"
     ]
    }
   ],
   "source": [
    "b=1\n",
    "\n",
    "def func(a):\n",
    "    print(a)\n",
    "    print(b)\n",
    "    #bはlocal変数としてに認識される！！\n",
    "    b=123\n",
    "\n",
    "func(23)"
   ]
  },
  {
   "cell_type": "code",
   "execution_count": 3,
   "metadata": {},
   "outputs": [
    {
     "data": {
      "text/plain": [
       "'who am I? who am I? '"
      ]
     },
     "execution_count": 3,
     "metadata": {},
     "output_type": "execute_result"
    }
   ],
   "source": [
    "def twice(cls):\n",
    "    original=cls.play\n",
    "    def play(self):\n",
    "        return original(self)*2\n",
    "    cls.play=play\n",
    "    return cls\n",
    "\n",
    "@twice\n",
    "class Tmp:\n",
    "    def play(self):\n",
    "        return \"who am I? \"\n",
    "\n",
    "    \n",
    "test=Tmp()\n",
    "test.play()"
   ]
  },
  {
   "cell_type": "code",
   "execution_count": 9,
   "metadata": {},
   "outputs": [
    {
     "name": "stdout",
     "output_type": "stream",
     "text": [
      "initializing..... <class '__main__.Child'>\n",
      "__init__ of Child class\n"
     ]
    },
    {
     "data": {
      "text/plain": [
       "<__main__.Child at 0x7f422c6f7280>"
      ]
     },
     "execution_count": 9,
     "metadata": {},
     "output_type": "execute_result"
    }
   ],
   "source": [
    "class Base:\n",
    "    @classmethod\n",
    "    def __init_subclass__(cls):\n",
    "        print(\"initializing.....\",cls)\n",
    "\n",
    "\n",
    "class Child(Base):\n",
    "    pass\n",
    "    def __init__(self):\n",
    "        print(\"__init__ of Child class\")\n",
    "\n",
    "\n",
    "Child()\n",
    "#init subclassが先に実行されるよ"
   ]
  },
  {
   "cell_type": "code",
   "execution_count": null,
   "metadata": {},
   "outputs": [],
   "source": [
    "import time\n",
    "class Date:\n",
    "    def __init__(self,year,month,date):\n",
    "        self.year=year\n",
    "        self.month=month\n",
    "        self.date=date\n",
    "\n",
    "    @classmethod\n",
    "    def today(cls):\n",
    "        _local=time.localtime()\n",
    "        return cls(year=_local.tm_year,)\n",
    "        "
   ]
  }
 ],
 "metadata": {
  "kernelspec": {
   "display_name": "venv",
   "language": "python",
   "name": "python3"
  },
  "language_info": {
   "codemirror_mode": {
    "name": "ipython",
    "version": 3
   },
   "file_extension": ".py",
   "mimetype": "text/x-python",
   "name": "python",
   "nbconvert_exporter": "python",
   "pygments_lexer": "ipython3",
   "version": "3.10.12"
  },
  "orig_nbformat": 4
 },
 "nbformat": 4,
 "nbformat_minor": 2
}
