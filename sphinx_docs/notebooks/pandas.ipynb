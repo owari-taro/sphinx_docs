{
 "cells": [
  {
   "cell_type": "markdown",
   "metadata": {},
   "source": [
    "# pandas tips"
   ]
  },
  {
   "cell_type": "code",
   "execution_count": 1,
   "metadata": {},
   "outputs": [
    {
     "data": {
      "text/html": [
       "<div>\n",
       "<style scoped>\n",
       "    .dataframe tbody tr th:only-of-type {\n",
       "        vertical-align: middle;\n",
       "    }\n",
       "\n",
       "    .dataframe tbody tr th {\n",
       "        vertical-align: top;\n",
       "    }\n",
       "\n",
       "    .dataframe thead th {\n",
       "        text-align: right;\n",
       "    }\n",
       "</style>\n",
       "<table border=\"1\" class=\"dataframe\">\n",
       "  <thead>\n",
       "    <tr style=\"text-align: right;\">\n",
       "      <th></th>\n",
       "      <th>0</th>\n",
       "      <th>1</th>\n",
       "      <th>2</th>\n",
       "      <th>3</th>\n",
       "    </tr>\n",
       "  </thead>\n",
       "  <tbody>\n",
       "    <tr>\n",
       "      <th>0</th>\n",
       "      <td>-0.498805</td>\n",
       "      <td>0.102246</td>\n",
       "      <td>0.322011</td>\n",
       "      <td>0.672588</td>\n",
       "    </tr>\n",
       "    <tr>\n",
       "      <th>1</th>\n",
       "      <td>1.005000</td>\n",
       "      <td>0.385719</td>\n",
       "      <td>-1.239657</td>\n",
       "      <td>0.268979</td>\n",
       "    </tr>\n",
       "    <tr>\n",
       "      <th>2</th>\n",
       "      <td>0.130458</td>\n",
       "      <td>1.840504</td>\n",
       "      <td>-0.226464</td>\n",
       "      <td>-2.109951</td>\n",
       "    </tr>\n",
       "    <tr>\n",
       "      <th>3</th>\n",
       "      <td>1.268270</td>\n",
       "      <td>1.781353</td>\n",
       "      <td>-0.673646</td>\n",
       "      <td>-1.840680</td>\n",
       "    </tr>\n",
       "    <tr>\n",
       "      <th>4</th>\n",
       "      <td>1.124693</td>\n",
       "      <td>0.835392</td>\n",
       "      <td>0.849973</td>\n",
       "      <td>1.096773</td>\n",
       "    </tr>\n",
       "    <tr>\n",
       "      <th>5</th>\n",
       "      <td>-1.254102</td>\n",
       "      <td>-1.051243</td>\n",
       "      <td>-0.992120</td>\n",
       "      <td>3.851482</td>\n",
       "    </tr>\n",
       "    <tr>\n",
       "      <th>6</th>\n",
       "      <td>1.201402</td>\n",
       "      <td>2.037735</td>\n",
       "      <td>-1.690783</td>\n",
       "      <td>0.846311</td>\n",
       "    </tr>\n",
       "    <tr>\n",
       "      <th>7</th>\n",
       "      <td>1.411881</td>\n",
       "      <td>1.052095</td>\n",
       "      <td>0.104727</td>\n",
       "      <td>-0.963993</td>\n",
       "    </tr>\n",
       "    <tr>\n",
       "      <th>8</th>\n",
       "      <td>-1.955504</td>\n",
       "      <td>0.166169</td>\n",
       "      <td>-0.790966</td>\n",
       "      <td>-0.358870</td>\n",
       "    </tr>\n",
       "  </tbody>\n",
       "</table>\n",
       "</div>"
      ],
      "text/plain": [
       "          0         1         2         3\n",
       "0 -0.498805  0.102246  0.322011  0.672588\n",
       "1  1.005000  0.385719 -1.239657  0.268979\n",
       "2  0.130458  1.840504 -0.226464 -2.109951\n",
       "3  1.268270  1.781353 -0.673646 -1.840680\n",
       "4  1.124693  0.835392  0.849973  1.096773\n",
       "5 -1.254102 -1.051243 -0.992120  3.851482\n",
       "6  1.201402  2.037735 -1.690783  0.846311\n",
       "7  1.411881  1.052095  0.104727 -0.963993\n",
       "8 -1.955504  0.166169 -0.790966 -0.358870"
      ]
     },
     "execution_count": 1,
     "metadata": {},
     "output_type": "execute_result"
    }
   ],
   "source": [
    "import pandas as pd\n",
    "import numpy as np\n",
    "\n",
    "a=np.random.standard_normal((9,4))\n",
    "df=pd.DataFrame(a)\n",
    "df"
   ]
  },
  {
   "cell_type": "code",
   "execution_count": null,
   "metadata": {},
   "outputs": [],
   "source": []
  }
 ],
 "metadata": {
  "kernelspec": {
   "display_name": "Python 3.10.2 64-bit",
   "language": "python",
   "name": "python3"
  },
  "language_info": {
   "codemirror_mode": {
    "name": "ipython",
    "version": 3
   },
   "file_extension": ".py",
   "mimetype": "text/x-python",
   "name": "python",
   "nbconvert_exporter": "python",
   "pygments_lexer": "ipython3",
   "version": "3.10.2"
  },
  "orig_nbformat": 4,
  "vscode": {
   "interpreter": {
    "hash": "1341ec97f829c1340bec10e9cd5a3b0f4a833ab6f8afd172be208a88f8e6e9d2"
   }
  }
 },
 "nbformat": 4,
 "nbformat_minor": 2
}
